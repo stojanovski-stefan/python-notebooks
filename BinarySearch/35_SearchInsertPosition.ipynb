{
 "cells": [
  {
   "metadata": {},
   "cell_type": "markdown",
   "source": [
    "## Problem Statement\n",
    "\n",
    "Given a sorted array of distinct integers and a target value, return the index if the target is found. If not, return the index where it would be if it were inserted in order.\n",
    "\n",
    "You must write an algorithm with O(log n) runtime complexity."
   ],
   "id": "ca84ed4357cffdf5"
  },
  {
   "cell_type": "code",
   "id": "initial_id",
   "metadata": {
    "collapsed": true,
    "ExecuteTime": {
     "end_time": "2025-08-25T14:54:08.102807Z",
     "start_time": "2025-08-25T14:54:08.099980Z"
    }
   },
   "source": [
    "from typing import List\n",
    "\n",
    "def search_insert(nums: List[int], target: int) -> int:\n",
    "    left_ptr, right_ptr = 0, len(nums) - 1\n",
    "    middle = 0\n",
    "\n",
    "    while (left_ptr <= right_ptr):\n",
    "        middle = int(left_ptr + (right_ptr - left_ptr) / 2)\n",
    "\n",
    "        if (nums[middle] == target):\n",
    "            return middle\n",
    "\n",
    "        if (nums[middle] < target):\n",
    "            left_ptr = middle + 1\n",
    "        else:\n",
    "            right_ptr = middle - 1\n",
    "\n",
    "    return right_ptr + 1  # right_ptr will always end up 1 index behind proper positon if target is not in list\n"
   ],
   "outputs": [],
   "execution_count": 20
  },
  {
   "metadata": {
    "ExecuteTime": {
     "end_time": "2025-08-25T14:54:10.346065Z",
     "start_time": "2025-08-25T14:54:10.343392Z"
    }
   },
   "cell_type": "code",
   "source": [
    "result = search_insert(nums=[1,3,5,6], target=7)\n",
    "assert result == 4, f'return value equals: ${result}'"
   ],
   "id": "7aa995c86103ce94",
   "outputs": [],
   "execution_count": 21
  },
  {
   "metadata": {
    "ExecuteTime": {
     "end_time": "2025-08-25T14:54:49.256603Z",
     "start_time": "2025-08-25T14:54:49.254064Z"
    }
   },
   "cell_type": "code",
   "source": [
    "result = search_insert(nums=[1,3,5,6], target=2)\n",
    "assert result == 1, f'return value equals: ${result}'"
   ],
   "id": "74ba1d4198ea18f9",
   "outputs": [],
   "execution_count": 24
  },
  {
   "metadata": {
    "ExecuteTime": {
     "end_time": "2025-08-25T14:54:50.635664Z",
     "start_time": "2025-08-25T14:54:50.632863Z"
    }
   },
   "cell_type": "code",
   "source": [
    "result = search_insert(nums=[1,3,5,6], target=5)\n",
    "assert result == 2, f'return value equals: ${result}'"
   ],
   "id": "e9130289f7ca8850",
   "outputs": [],
   "execution_count": 25
  }
 ],
 "metadata": {
  "kernelspec": {
   "display_name": "Python 3",
   "language": "python",
   "name": "python3"
  },
  "language_info": {
   "codemirror_mode": {
    "name": "ipython",
    "version": 2
   },
   "file_extension": ".py",
   "mimetype": "text/x-python",
   "name": "python",
   "nbconvert_exporter": "python",
   "pygments_lexer": "ipython2",
   "version": "2.7.6"
  }
 },
 "nbformat": 4,
 "nbformat_minor": 5
}
