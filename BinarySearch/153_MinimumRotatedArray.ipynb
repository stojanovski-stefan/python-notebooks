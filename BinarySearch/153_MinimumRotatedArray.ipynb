{
 "cells": [
  {
   "metadata": {},
   "cell_type": "markdown",
   "source": [
    "## Problem Statement\n",
    "Suppose an array of length $n$ sorted in ascending order is rotated between $1$ and $n$ times. For example, the array nums = $[0,1,2,4,5,6,7]$ might become:\n",
    "\n",
    "$[4,5,6,7,0,1,2]$ if it was rotated $4$ times.\n",
    "$[0,1,2,4,5,6,7]$ if it was rotated $7$ times.\n",
    "Notice that rotating an array $[a[0], a[1], a[2], ..., a[n-1]]$ $1$ time results in the array $[a[n-1], a[0], a[1], a[2], ..., a[n-2]]$.\n",
    "\n",
    "Given the sorted rotated array nums of unique elements, return the minimum element of this array.\n",
    "\n",
    "You must write an algorithm that runs in $O(log n)$ time.\n"
   ],
   "id": "282dfb355cb8fa05"
  },
  {
   "cell_type": "code",
   "id": "initial_id",
   "metadata": {
    "collapsed": true,
    "ExecuteTime": {
     "end_time": "2025-08-25T12:45:34.512970Z",
     "start_time": "2025-08-25T12:45:34.508340Z"
    }
   },
   "source": [
    "from typing import List\n",
    "\n",
    "# O(log n) time complexity\n",
    "def findMin(nums: List[int]) -> int:\n",
    "    left_ptr = 0\n",
    "    right_ptr = len(nums) - 1\n",
    "    monotonic_condition = nums[right_ptr]\n",
    "\n",
    "    while (left_ptr <= right_ptr):  # <= to avoid situations like [3, 1, 2]\n",
    "        middle = int(left_ptr + (right_ptr - left_ptr) / 2)\n",
    "\n",
    "        if (nums[middle] <= monotonic_condition):\n",
    "            right_ptr = middle - 1\n",
    "        else:\n",
    "            left_ptr = middle + 1\n",
    "\n",
    "    return nums[left_ptr]\n"
   ],
   "outputs": [],
   "execution_count": 47
  },
  {
   "metadata": {
    "ExecuteTime": {
     "end_time": "2025-08-25T12:45:37.434935Z",
     "start_time": "2025-08-25T12:45:37.431279Z"
    }
   },
   "cell_type": "code",
   "source": [
    "nums = [3,4,5,1,2]\n",
    "assert findMin(nums) == 1"
   ],
   "id": "dfd629e759b47d12",
   "outputs": [],
   "execution_count": 48
  },
  {
   "metadata": {
    "ExecuteTime": {
     "end_time": "2025-08-25T12:45:39.373640Z",
     "start_time": "2025-08-25T12:45:39.370133Z"
    }
   },
   "cell_type": "code",
   "source": [
    "nums = [3,1,2]\n",
    "assert findMin(nums) == 1"
   ],
   "id": "e691d761df527265",
   "outputs": [],
   "execution_count": 49
  },
  {
   "metadata": {
    "ExecuteTime": {
     "end_time": "2025-08-25T12:45:42.414614Z",
     "start_time": "2025-08-25T12:45:42.412521Z"
    }
   },
   "cell_type": "code",
   "source": [
    "nums = [1, 2, 3]\n",
    "assert findMin(nums) == 1"
   ],
   "id": "a02c5eb9b35900bf",
   "outputs": [],
   "execution_count": 50
  },
  {
   "metadata": {},
   "cell_type": "markdown",
   "source": [
    "## Monotonic  Functions and Binary Search\n",
    "\n",
    "A monotonic function is a function that is either a **non-decreasing** or **non-increasing**. A sorted array is monotonic because the value increases\n",
    "or stays the same as the index increase.\n",
    "\n",
    "The precondition for binary search is to find a monotonic function $f(x)$ that returns either `True` or `False`. Then this problem becomes 'Find the First\n",
    "True in Sorted Bool Array', which is possible to do with a binary search."
   ],
   "id": "ce6d931517fd8ab5"
  }
 ],
 "metadata": {
  "kernelspec": {
   "display_name": "Python 3",
   "language": "python",
   "name": "python3"
  },
  "language_info": {
   "codemirror_mode": {
    "name": "ipython",
    "version": 2
   },
   "file_extension": ".py",
   "mimetype": "text/x-python",
   "name": "python",
   "nbconvert_exporter": "python",
   "pygments_lexer": "ipython2",
   "version": "2.7.6"
  }
 },
 "nbformat": 4,
 "nbformat_minor": 5
}
